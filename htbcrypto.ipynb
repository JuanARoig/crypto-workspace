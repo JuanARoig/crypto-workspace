{
  "nbformat": 4,
  "nbformat_minor": 0,
  "metadata": {
    "colab": {
      "name": "htbcrypto.ipynb",
      "provenance": [],
      "authorship_tag": "ABX9TyOBrsLD/uYoPMjvK+kXZ1Nw",
      "include_colab_link": true
    },
    "kernelspec": {
      "name": "python3",
      "display_name": "Python 3"
    },
    "language_info": {
      "name": "python"
    }
  },
  "cells": [
    {
      "cell_type": "markdown",
      "metadata": {
        "id": "view-in-github",
        "colab_type": "text"
      },
      "source": [
        "<a href=\"https://colab.research.google.com/github/JuanARoig/crypto-workspace/blob/main/htbcrypto.ipynb\" target=\"_parent\"><img src=\"https://colab.research.google.com/assets/colab-badge.svg\" alt=\"Open In Colab\"/></a>"
      ]
    },
    {
      "cell_type": "markdown",
      "source": [
        "This is my workspace for crypto challenges from hackthebox"
      ],
      "metadata": {
        "id": "-YXNZd7cfwmb"
      }
    },
    {
      "cell_type": "code",
      "source": [
        "import string\n",
        "from secret import MSG\n",
        "\n",
        "def encryption(msg):\n",
        "    ct = []\n",
        "    for char in msg:\n",
        "        ct.append((123 * char + 18) % 256)\n",
        "    return bytes(ct)\n",
        "\n",
        "ct = encryption(MSG)\n",
        "f = open('./msg.enc','w')\n",
        "f.write(ct.hex())\n",
        "f.close()\n"
      ],
      "metadata": {
        "id": "fa8FglF6f1Ns"
      },
      "execution_count": null,
      "outputs": []
    },
    {
      "cell_type": "code",
      "source": [
        "x = \"6e0a9372ec49a3f6930ed8723f9df6f6720ed8d89dc4937222ec7214d89d1e0e352ce0aa6ec82bf622227bb70e7fb7352249b7d893c493d8539dec8fb7935d490e7f9d22ec89b7a322ec8fd80e7f8921\"\n",
        "x = bytes.fromhex(x)\n",
        "# I know that the values are just shifted.\n",
        "x = list(x)\n",
        "print(x)\n",
        "my_dict = {}\n",
        "for i in range(33,126):\n",
        "  my_dict.update({(i*123 + 18)%256 : i})\n",
        "print(my_dict)\n",
        "for i in x:\n",
        "  if i in my_dict:\n",
        "    print(chr(my_dict.get(i)), end='')"
      ],
      "metadata": {
        "id": "PorDSFxegxoY"
      },
      "execution_count": null,
      "outputs": []
    },
    {
      "cell_type": "code",
      "source": [
        "!pip install pycrypto"
      ],
      "metadata": {
        "colab": {
          "base_uri": "https://localhost:8080/"
        },
        "id": "xNv8FLBdWHMH",
        "outputId": "6bdfdab3-949a-4811-898c-0f8145cec897"
      },
      "execution_count": 2,
      "outputs": [
        {
          "output_type": "stream",
          "name": "stdout",
          "text": [
            "Collecting pycrypto\n",
            "  Downloading pycrypto-2.6.1.tar.gz (446 kB)\n",
            "\u001b[?25l\r\u001b[K     |▊                               | 10 kB 14.6 MB/s eta 0:00:01\r\u001b[K     |█▌                              | 20 kB 22.3 MB/s eta 0:00:01\r\u001b[K     |██▏                             | 30 kB 11.5 MB/s eta 0:00:01\r\u001b[K     |███                             | 40 kB 8.7 MB/s eta 0:00:01\r\u001b[K     |███▊                            | 51 kB 5.5 MB/s eta 0:00:01\r\u001b[K     |████▍                           | 61 kB 5.6 MB/s eta 0:00:01\r\u001b[K     |█████▏                          | 71 kB 5.6 MB/s eta 0:00:01\r\u001b[K     |█████▉                          | 81 kB 6.2 MB/s eta 0:00:01\r\u001b[K     |██████▋                         | 92 kB 4.9 MB/s eta 0:00:01\r\u001b[K     |███████▍                        | 102 kB 5.3 MB/s eta 0:00:01\r\u001b[K     |████████                        | 112 kB 5.3 MB/s eta 0:00:01\r\u001b[K     |████████▉                       | 122 kB 5.3 MB/s eta 0:00:01\r\u001b[K     |█████████▌                      | 133 kB 5.3 MB/s eta 0:00:01\r\u001b[K     |██████████▎                     | 143 kB 5.3 MB/s eta 0:00:01\r\u001b[K     |███████████                     | 153 kB 5.3 MB/s eta 0:00:01\r\u001b[K     |███████████▊                    | 163 kB 5.3 MB/s eta 0:00:01\r\u001b[K     |████████████▌                   | 174 kB 5.3 MB/s eta 0:00:01\r\u001b[K     |█████████████▏                  | 184 kB 5.3 MB/s eta 0:00:01\r\u001b[K     |██████████████                  | 194 kB 5.3 MB/s eta 0:00:01\r\u001b[K     |██████████████▊                 | 204 kB 5.3 MB/s eta 0:00:01\r\u001b[K     |███████████████▍                | 215 kB 5.3 MB/s eta 0:00:01\r\u001b[K     |████████████████▏               | 225 kB 5.3 MB/s eta 0:00:01\r\u001b[K     |█████████████████               | 235 kB 5.3 MB/s eta 0:00:01\r\u001b[K     |█████████████████▋              | 245 kB 5.3 MB/s eta 0:00:01\r\u001b[K     |██████████████████▍             | 256 kB 5.3 MB/s eta 0:00:01\r\u001b[K     |███████████████████             | 266 kB 5.3 MB/s eta 0:00:01\r\u001b[K     |███████████████████▉            | 276 kB 5.3 MB/s eta 0:00:01\r\u001b[K     |████████████████████▋           | 286 kB 5.3 MB/s eta 0:00:01\r\u001b[K     |█████████████████████▎          | 296 kB 5.3 MB/s eta 0:00:01\r\u001b[K     |██████████████████████          | 307 kB 5.3 MB/s eta 0:00:01\r\u001b[K     |██████████████████████▊         | 317 kB 5.3 MB/s eta 0:00:01\r\u001b[K     |███████████████████████▌        | 327 kB 5.3 MB/s eta 0:00:01\r\u001b[K     |████████████████████████▎       | 337 kB 5.3 MB/s eta 0:00:01\r\u001b[K     |█████████████████████████       | 348 kB 5.3 MB/s eta 0:00:01\r\u001b[K     |█████████████████████████▊      | 358 kB 5.3 MB/s eta 0:00:01\r\u001b[K     |██████████████████████████▍     | 368 kB 5.3 MB/s eta 0:00:01\r\u001b[K     |███████████████████████████▏    | 378 kB 5.3 MB/s eta 0:00:01\r\u001b[K     |████████████████████████████    | 389 kB 5.3 MB/s eta 0:00:01\r\u001b[K     |████████████████████████████▋   | 399 kB 5.3 MB/s eta 0:00:01\r\u001b[K     |█████████████████████████████▍  | 409 kB 5.3 MB/s eta 0:00:01\r\u001b[K     |██████████████████████████████  | 419 kB 5.3 MB/s eta 0:00:01\r\u001b[K     |██████████████████████████████▉ | 430 kB 5.3 MB/s eta 0:00:01\r\u001b[K     |███████████████████████████████▋| 440 kB 5.3 MB/s eta 0:00:01\r\u001b[K     |████████████████████████████████| 446 kB 5.3 MB/s \n",
            "\u001b[?25hBuilding wheels for collected packages: pycrypto\n",
            "  Building wheel for pycrypto (setup.py) ... \u001b[?25l\u001b[?25hdone\n",
            "  Created wheel for pycrypto: filename=pycrypto-2.6.1-cp37-cp37m-linux_x86_64.whl size=499932 sha256=16e7a14e7fb74dec532ddad3f812690e17ffb5fddfe96be11127c76eb658d624\n",
            "  Stored in directory: /root/.cache/pip/wheels/cf/85/ba/bbd7c96add459de7598fb424e5ff2309baf2095c844ac0f191\n",
            "Successfully built pycrypto\n",
            "Installing collected packages: pycrypto\n",
            "Successfully installed pycrypto-2.6.1\n"
          ]
        }
      ]
    },
    {
      "cell_type": "code",
      "source": [
        "from Crypto.Util.number import getPrime, long_to_bytes, inverse\n",
        "flag = open('flag.txt', 'r').read().strip().encode()\n",
        "\n",
        "class RSA:\n",
        "    def __init__(self):\n",
        "        self.p = getPrime(512)\n",
        "        self.q = getPrime(512)\n",
        "        self.e = 3\n",
        "        self.n = self.p * self.q\n",
        "        self.d = inverse(self.e, (self.p-1)*(self.q-1))\n",
        "    def encrypt(self, data: bytes) -> bytes:\n",
        "        pt = int(data.hex(), 16)\n",
        "        ct = pow(pt, self.e, self.n)\n",
        "        return long_to_bytes(ct)\n",
        "    def decrypt(self, data: bytes) -> bytes:\n",
        "        ct = int(data.hex(), 16)\n",
        "        pt = pow(ct, self.d, self.n)\n",
        "        return long_to_bytes(pt)\n",
        "\n",
        "def main():\n",
        "    crypto = RSA()\n",
        "    print ('Flag:', crypto.encrypt(flag).hex())\n",
        "\n",
        "if __name__ == '__main__':\n",
        "    main()"
      ],
      "metadata": {
        "colab": {
          "base_uri": "https://localhost:8080/",
          "height": 245
        },
        "id": "o29btqstWEt7",
        "outputId": "e81c42aa-ba01-4161-f003-b272aa1b60ed"
      },
      "execution_count": 8,
      "outputs": [
        {
          "output_type": "error",
          "ename": "FileNotFoundError",
          "evalue": "ignored",
          "traceback": [
            "\u001b[0;31m---------------------------------------------------------------------------\u001b[0m",
            "\u001b[0;31mFileNotFoundError\u001b[0m                         Traceback (most recent call last)",
            "\u001b[0;32m<ipython-input-8-a719170abe62>\u001b[0m in \u001b[0;36m<module>\u001b[0;34m()\u001b[0m\n\u001b[1;32m      1\u001b[0m \u001b[0;32mfrom\u001b[0m \u001b[0mCrypto\u001b[0m\u001b[0;34m.\u001b[0m\u001b[0mUtil\u001b[0m\u001b[0;34m.\u001b[0m\u001b[0mnumber\u001b[0m \u001b[0;32mimport\u001b[0m \u001b[0mgetPrime\u001b[0m\u001b[0;34m,\u001b[0m \u001b[0mlong_to_bytes\u001b[0m\u001b[0;34m,\u001b[0m \u001b[0minverse\u001b[0m\u001b[0;34m\u001b[0m\u001b[0;34m\u001b[0m\u001b[0m\n\u001b[0;32m----> 2\u001b[0;31m \u001b[0mflag\u001b[0m \u001b[0;34m=\u001b[0m \u001b[0mopen\u001b[0m\u001b[0;34m(\u001b[0m\u001b[0;34m'flag.txt'\u001b[0m\u001b[0;34m,\u001b[0m \u001b[0;34m'r'\u001b[0m\u001b[0;34m)\u001b[0m\u001b[0;34m.\u001b[0m\u001b[0mread\u001b[0m\u001b[0;34m(\u001b[0m\u001b[0;34m)\u001b[0m\u001b[0;34m.\u001b[0m\u001b[0mstrip\u001b[0m\u001b[0;34m(\u001b[0m\u001b[0;34m)\u001b[0m\u001b[0;34m.\u001b[0m\u001b[0mencode\u001b[0m\u001b[0;34m(\u001b[0m\u001b[0;34m)\u001b[0m\u001b[0;34m\u001b[0m\u001b[0;34m\u001b[0m\u001b[0m\n\u001b[0m\u001b[1;32m      3\u001b[0m \u001b[0;34m\u001b[0m\u001b[0m\n\u001b[1;32m      4\u001b[0m \u001b[0;32mclass\u001b[0m \u001b[0mRSA\u001b[0m\u001b[0;34m:\u001b[0m\u001b[0;34m\u001b[0m\u001b[0;34m\u001b[0m\u001b[0m\n\u001b[1;32m      5\u001b[0m     \u001b[0;32mdef\u001b[0m \u001b[0m__init__\u001b[0m\u001b[0;34m(\u001b[0m\u001b[0mself\u001b[0m\u001b[0;34m)\u001b[0m\u001b[0;34m:\u001b[0m\u001b[0;34m\u001b[0m\u001b[0;34m\u001b[0m\u001b[0m\n",
            "\u001b[0;31mFileNotFoundError\u001b[0m: [Errno 2] No such file or directory: 'flag.txt'"
          ]
        }
      ]
    },
    {
      "cell_type": "code",
      "source": [
        "flag = \"05c61636499a82088bf4388203a93e67bf046f8c49f62857681ec9aaaa40b4772933e0abc83e938c84ff8e67e5ad85bd6eca167585b0cc03eb1333b1b1462d9d7c25f44e53bcb568f0f05219c0147f7dc3cbad45dec2f34f03bcadcbba866dd0c566035c8122d68255ada7d18954ad604965\"\n",
        "flag = list(bytes.fromhex(flag))\n",
        "flagstr = ''.join(chr(i) for i in flag)\n",
        "\n"
      ],
      "metadata": {
        "colab": {
          "base_uri": "https://localhost:8080/"
        },
        "id": "47Dz6Y2hWP4H",
        "outputId": "48d7242c-6e01-4fb8-a74c-285b9bf71b65"
      },
      "execution_count": 13,
      "outputs": [
        {
          "output_type": "stream",
          "name": "stdout",
          "text": [
            "\u0005Æ\u00166I\bô8\u0003©>g¿\u0004oIö(Wh\u001eÉªª@´w)3à«È>ÿgå­½nÊ\u0016u°Ì\u0003ë\u00133±±F-|%ôNS¼µhððR\u0019À\u0014}ÃË­EÞÂóO\u0003¼­ËºmÐÅf\u0003\\\"ÖU­§ÑT­`Ie\n"
          ]
        }
      ]
    },
    {
      "cell_type": "code",
      "source": [
        "from Crypto.Util.number import getPrime, long_to_bytes\n"
      ],
      "metadata": {
        "colab": {
          "base_uri": "https://localhost:8080/"
        },
        "id": "JmkaDn3OY37Z",
        "outputId": "d535363d-c9e1-489a-ad6f-42ec83258fbe"
      },
      "execution_count": 17,
      "outputs": [
        {
          "output_type": "stream",
          "name": "stdout",
          "text": [
            "10538868003492016690983887659843346496715534196392637459050844228456008332691363475247676207512342821299017905297955655189318993390107144611305181347706141\n",
            "6944242987131398212471211435535509086572384153495777461834781185931590854046233189144936442550467472752725944396412078254380122430917778348001117757357307\n"
          ]
        }
      ]
    }
  ]
}